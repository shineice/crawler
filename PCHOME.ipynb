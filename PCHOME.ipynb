{
 "cells": [
  {
   "cell_type": "code",
   "execution_count": null,
   "metadata": {},
   "outputs": [],
   "source": [
    "import requests\n",
    "import json\n",
    "import pandas as pd\n",
    "url='https://ecshweb.pchome.com.tw/search/v3.3/?q=%E9%A9%85%E8%9F%B2%E5%99%B4%E9%9C%A7'\n",
    "headers={\n",
    "    'user-agent':'Mozilla/5.0 (Windows NT 10.0; Win64; x64) AppleWebKit/537.36 (KHTML, like Gecko) Chrome/83.0.4103.106 Safari/537.36'\n",
    "}\n",
    "r=requests.get(url,headers=headers)\n",
    "data = json.loads(r.text)\n",
    "name_list=pd.DataFrame()\n",
    "for i in range(len(data['prods'])):\n",
    "    name=pd.DataFrame(data['prods'][i]['name'])\n",
    "    name_list.append(name)\n",
    "    "
   ]
  }
 ],
 "metadata": {
  "kernelspec": {
   "display_name": "Python 3",
   "language": "python",
   "name": "python3"
  },
  "language_info": {
   "codemirror_mode": {
    "name": "ipython",
    "version": 3
   },
   "file_extension": ".py",
   "mimetype": "text/x-python",
   "name": "python",
   "nbconvert_exporter": "python",
   "pygments_lexer": "ipython3",
   "version": "3.7.3"
  }
 },
 "nbformat": 4,
 "nbformat_minor": 2
}
