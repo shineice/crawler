{
 "cells": [
  {
   "cell_type": "code",
   "execution_count": null,
   "metadata": {},
   "outputs": [],
   "source": [
    "import datetime\n",
    "import dropbox\n",
    "import pandas as pd"
   ]
  },
  {
   "cell_type": "code",
   "execution_count": null,
   "metadata": {},
   "outputs": [],
   "source": [
    "dbx = dropbox.Dropbox('token')"
   ]
  },
  {
   "cell_type": "code",
   "execution_count": null,
   "metadata": {},
   "outputs": [],
   "source": [
    "l=[entry.name for entry in dbx.files_list_folder(path='/FINALJPGS').entries]"
   ]
  },
  {
   "cell_type": "code",
   "execution_count": null,
   "metadata": {},
   "outputs": [],
   "source": [
    "path_list=[]\n",
    "for i in range(len(l)):\n",
    "    pa='/FINALJPGS/'+l[i]\n",
    "    path_list.append(pa)"
   ]
  },
  {
   "cell_type": "code",
   "execution_count": null,
   "metadata": {},
   "outputs": [],
   "source": [
    "jpg_path=[]\n",
    "folder_next=[]\n",
    "for i in range(len(path_list)):\n",
    "    for entry in dbx.files_list_folder(path=path_list[i]).entries:\n",
    "        en=path_list[i]+\"/\"+entry.name\n",
    "        jpg_path.append(en)"
   ]
  },
  {
   "cell_type": "code",
   "execution_count": null,
   "metadata": {},
   "outputs": [],
   "source": [
    "jpg_path= [x for x in jpg_path if '.jpg|.JPG' in x]"
   ]
  },
  {
   "cell_type": "code",
   "execution_count": null,
   "metadata": {},
   "outputs": [],
   "source": [
    "url_folder_list=[]\n",
    "jpg_path_name_list=[]\n",
    "for i in range(len(jpg_path)):\n",
    "    jpg=dbx.sharing_create_shared_link(path=jpg_path[i], short_url=False, pending_upload=None)\n",
    "    jpg_url=jpg.url\n",
    "    jpg_path_name=jpg.path.split('/',3)[3]\n",
    "    \n",
    "    url_folder_list+=[jpg_url]\n",
    "    jpg_path_name_list+=[jpg_path_name]\n",
    "    "
   ]
  },
  {
   "cell_type": "code",
   "execution_count": null,
   "metadata": {},
   "outputs": [],
   "source": [
    "data = pd.DataFrame(\n",
    "    {'name':jpg_path_name_list,\n",
    "     'url':url_folder_list,\n",
    "    })"
   ]
  },
  {
   "cell_type": "code",
   "execution_count": null,
   "metadata": {},
   "outputs": [],
   "source": [
    "data.to_csv('dropboxv2.csv',index=False)"
   ]
  }
 ],
 "metadata": {
  "kernelspec": {
   "display_name": "Python 3",
   "language": "python",
   "name": "python3"
  },
  "language_info": {
   "codemirror_mode": {
    "name": "ipython",
    "version": 3
   },
   "file_extension": ".py",
   "mimetype": "text/x-python",
   "name": "python",
   "nbconvert_exporter": "python",
   "pygments_lexer": "ipython3",
   "version": "3.7.3"
  }
 },
 "nbformat": 4,
 "nbformat_minor": 2
}
