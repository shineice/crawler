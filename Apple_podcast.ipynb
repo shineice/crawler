{
 "cells": [
  {
   "cell_type": "code",
   "execution_count": 18,
   "metadata": {},
   "outputs": [],
   "source": [
    "import requests\n",
    "from bs4 import BeautifulSoup\n",
    "import pandas as pd\n",
    "from datetime import date, timedelta\n",
    "import numpy as np\n",
    "Today = date.today().strftime(\"%Y%m%d\")\n",
    "import os\n",
    "os.chdir('C:\\\\Users\\\\User\\\\test')"
   ]
  },
  {
   "cell_type": "code",
   "execution_count": 19,
   "metadata": {},
   "outputs": [],
   "source": [
    "#Applepodcast\n",
    "ranking=pd.DataFrame()\n",
    "for i in range(1,4):\n",
    "    url='https://chartable.com/charts/itunes/tw-all-podcasts-podcasts?page='+str(i)\n",
    "    r = requests.get(url, headers = {'User-agent': 'your bot 0.1'})\n",
    "\n",
    "    soup = BeautifulSoup(r.text, 'html.parser')\n",
    "    divTag = soup.find_all(\"tr\", {\"class\": \"striped--near-white\"})\n",
    "    all=[i.text for i in divTag]\n",
    "    rank=pd.Series(all).to_frame()\n",
    "    ranking=ranking.append(rank)\n"
   ]
  },
  {
   "cell_type": "code",
   "execution_count": 23,
   "metadata": {},
   "outputs": [],
   "source": [
    "ranking1=ranking[0].str.split('[\\r\\n]+', n=5,expand = True)\n",
    "ranking1[4]=np.where(ranking1[5].isnull(),ranking1[3],ranking1[4])\n",
    "ranking1.columns=['0','ranking','change','3','name','5']\n",
    "ranking1['date']=Today\n",
    "ranking1=ranking1[['date','ranking','change','name']]                  "
   ]
  },
  {
   "cell_type": "code",
   "execution_count": 24,
   "metadata": {
    "scrolled": true
   },
   "outputs": [],
   "source": [
    "ranking1.to_csv(Today+'Applepodcast.csv',index=False, encoding='utf_8_sig')"
   ]
  },
  {
   "cell_type": "code",
   "execution_count": 10,
   "metadata": {},
   "outputs": [],
   "source": [
    "#SPOTIFY\n",
    "url1='https://chartable.com/charts/spotify/taiwan-top-podcasts'\n",
    "r = requests.get(url1, headers = {'User-agent': 'your bot 0.1'})\n",
    "\n",
    "rank_spotify=pd.DataFrame()\n",
    "soup = BeautifulSoup(r.text, 'html.parser')\n",
    "divTag = soup.find_all(\"tr\", {\"class\": \"striped--near-white\"})\n",
    "all=[i.text for i in divTag]\n",
    "spotify=pd.Series(all).to_frame()\n",
    "rank_spotify=rank_spotify.append(spotify)"
   ]
  },
  {
   "cell_type": "code",
   "execution_count": 11,
   "metadata": {
    "scrolled": true
   },
   "outputs": [],
   "source": [
    "ranking_spotify1=rank_spotify[0].str.split('[\\r\\n]+',expand = True)\n",
    "ranking_spotify1[4]=np.where(ranking_spotify1[5].isnull(),ranking_spotify1[3],ranking_spotify1[4])\n"
   ]
  },
  {
   "cell_type": "code",
   "execution_count": 7,
   "metadata": {
    "scrolled": true
   },
   "outputs": [],
   "source": [
    "ranking_spotify1.columns=['0','ranking','change','3','name','5']\n",
    "ranking_spotify1['date']=Today\n",
    "ranking_spotify1=ranking_spotify1[['date','ranking','change','name']]"
   ]
  },
  {
   "cell_type": "code",
   "execution_count": 8,
   "metadata": {},
   "outputs": [],
   "source": [
    "ranking_spotify1.to_csv(Today+'Spotify.csv',index=False, encoding='utf_8_sig')"
   ]
  },
  {
   "cell_type": "code",
   "execution_count": 9,
   "metadata": {},
   "outputs": [],
   "source": [
    "\n",
    "apple=Today+'Applepodcast.csv'\n",
    "spotify=Today+\"Spotify.csv\"\n",
    "\n",
    "import sendmail\n",
    "sendmail.sendreport( 'report_mailinfo.csv',0,apple)\n",
    "sendmail.sendreport( 'report_mailinfo.csv',0,spotify)\n"
   ]
  },
  {
   "cell_type": "code",
   "execution_count": null,
   "metadata": {},
   "outputs": [],
   "source": []
  }
 ],
 "metadata": {
  "kernelspec": {
   "display_name": "Python 3",
   "language": "python",
   "name": "python3"
  },
  "language_info": {
   "codemirror_mode": {
    "name": "ipython",
    "version": 3
   },
   "file_extension": ".py",
   "mimetype": "text/x-python",
   "name": "python",
   "nbconvert_exporter": "python",
   "pygments_lexer": "ipython3",
   "version": "3.7.3"
  }
 },
 "nbformat": 4,
 "nbformat_minor": 2
}
